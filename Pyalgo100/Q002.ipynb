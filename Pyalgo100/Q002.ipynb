{
 "cells": [
  {
   "cell_type": "markdown",
   "metadata": {},
   "source": [
    "# Algorithm Basic 100\n",
    "[링크](https://100.pyalgo.co.kr/?page=2#)\n",
    "\n",
    "## Q2. 곱하기\n",
    "\n",
    "### 문제\n",
    " * 주어진 리스트를 모두 곱하는 solution 함수를 완성해주세요. \n",
    "\n",
    "### 제한사항\n",
    "* 1 <= 리스트 안의 수 <= 100\n",
    "* 숫자 외에 다른 값은 주어지지 않습니다.\n",
    "* 각각의 값은 1차원 리스트로 주어집니다.\n",
    "* 리스트 안에 값이 없는 경우는 0으로 출력해야 합니다."
   ]
  },
  {
   "cell_type": "code",
   "execution_count": 1,
   "metadata": {},
   "outputs": [],
   "source": [
    "# solution\n",
    "\n",
    "def solution(data) : \n",
    "    if not data :\n",
    "        return 0\n",
    "    \n",
    "    product = 1 \n",
    "\n",
    "    for num in data :\n",
    "        product *= num\n",
    "    return product"
   ]
  }
 ],
 "metadata": {
  "kernelspec": {
   "display_name": "base",
   "language": "python",
   "name": "python3"
  },
  "language_info": {
   "codemirror_mode": {
    "name": "ipython",
    "version": 3
   },
   "file_extension": ".py",
   "mimetype": "text/x-python",
   "name": "python",
   "nbconvert_exporter": "python",
   "pygments_lexer": "ipython3",
   "version": "3.11.7"
  }
 },
 "nbformat": 4,
 "nbformat_minor": 2
}
