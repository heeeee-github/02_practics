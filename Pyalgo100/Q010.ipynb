{
 "cells": [
  {
   "cell_type": "markdown",
   "metadata": {},
   "source": [
    "# Algorithm Basic 100\n",
    "[링크](https://100.pyalgo.co.kr/?page=10#)\n",
    "\n",
    "## Q10. 게임 밸런스 조절\n",
    "\n",
    "### 문제\n",
    " * 라이캣은 연말 출시할 게임의 게임 난이도를 조절하는 업무를 담당하게 되었습니다. 우선 능력치가 비정상적으로 높은 캐릭터들의 리스트를 뽑고자 합니다. 캐릭터 이름, 공격력, 방어력, 체력, 마력이 리스트로 [ 'Licat',98,30,21,60]와 같이 주어졌을 때, 모든 능력치의 합이 350 이상이 되는 캐릭터의 이름을 출력하는 solution함수를 완성해주세요.\n",
    "\n",
    "### 제한사항\n",
    "* 3 <= 캐릭터 수 <= 10\n",
    "* 10 <= 능력치 <= 100\n",
    "* 350이 넘는 캐릭터의 이름은 알파벳 순으로 출력합니다.\n",
    "\n"
   ]
  },
  {
   "cell_type": "code",
   "execution_count": 4,
   "metadata": {},
   "outputs": [],
   "source": [
    "#solution\n",
    "\n",
    "def solution(data) :\n",
    "    over_characters = []\n",
    "    \n",
    "    # 캐릭터 이름 및 스탯\n",
    "    for character in data :\n",
    "        name = character[0]\n",
    "        stats = character[1:]\n",
    "        \n",
    "        # 능력치 총 합 \n",
    "        tot_stats = sum(stats)\n",
    "        \n",
    "        # 총 합이 350 이상인 경우 리스트 추가\n",
    "        if tot_stats >= 350 :\n",
    "            over_characters.append(name)\n",
    "    \n",
    "    # 최총 결과는 알파벳 오름차순으로 정렬\n",
    "    over_characters = sorted(over_characters)\n",
    "    \n",
    "    return over_characters\n"
   ]
  },
  {
   "cell_type": "code",
   "execution_count": 5,
   "metadata": {},
   "outputs": [
    {
     "name": "stdout",
     "output_type": "stream",
     "text": [
      "['Licat']\n",
      "['Allosa', 'Gray']\n"
     ]
    }
   ],
   "source": [
    "test1 = [['Licat', 98, 92, 85, 97], ['Mura', 95, 32, 51, 30], ['Binky', 98, 98, 51, 32]]\n",
    "test2 = [['Gray', 98, 92, 85, 97], ['Gom', 98, 30, 21, 60], ['Allosa', 98, 90, 99, 98]]\t\n",
    "\n",
    "print(solution(test1))\n",
    "print(solution(test2))\n",
    "\n"
   ]
  }
 ],
 "metadata": {
  "kernelspec": {
   "display_name": "base",
   "language": "python",
   "name": "python3"
  },
  "language_info": {
   "codemirror_mode": {
    "name": "ipython",
    "version": 3
   },
   "file_extension": ".py",
   "mimetype": "text/x-python",
   "name": "python",
   "nbconvert_exporter": "python",
   "pygments_lexer": "ipython3",
   "version": "3.11.7"
  }
 },
 "nbformat": 4,
 "nbformat_minor": 2
}
