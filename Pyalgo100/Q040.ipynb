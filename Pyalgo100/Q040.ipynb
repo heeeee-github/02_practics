{
 "cells": [
  {
   "cell_type": "markdown",
   "metadata": {},
   "source": [
    "# Algorithm Basic 100\n",
    "[링크](https://100.pyalgo.co.kr/?page=40#)\n",
    "\n",
    "## Q40. 숫자 추출\n",
    "\n",
    "### 문제\n",
    " * 주어진 문자열에서 숫자와 쉼표만을 포함한 부분을 추출하고, 쉼표를 제거하여 순수한 숫자만을 반환하는 함수를 작성해주세요. 문자열에 문자가 없는 경우, 빈 문자열을 반환합니다.\n",
    "\n",
    " * 예를 들어, 문자열 **\"가격은 3,500원입니다.\"**에서 함수는 **3500**을, **\"오늘은 2023년 3월5일\"**에서는 **202335**를 반환해야합니다.\n",
    "\n",
    "### 제한사항\n",
    "* 문자열은 숫자, 쉼표, 그리고 다른 문자들을 포함할 수 있습니다.\n",
    "* 문자열의 길이는 최대 1000자 입니다.\n",
    "\n"
   ]
  },
  {
   "cell_type": "code",
   "execution_count": 2,
   "metadata": {},
   "outputs": [
    {
     "name": "stdout",
     "output_type": "stream",
     "text": [
      "3500\n",
      "2179456086225\n"
     ]
    }
   ],
   "source": [
    "# solution 1\n",
    "\n",
    "def solution(data) : \n",
    "    # 정규표현식\n",
    "    import re\n",
    "    extraction = re.findall(r'[0-9,]+', data)\n",
    "\n",
    "    # 추출 후, 따로 노는 숫자와 쉼표를 합치기\n",
    "    comb_string = ''.join(extraction)\n",
    "    # 추출 결과에서 쉼표를 제외\n",
    "    result = comb_string.replace(',','')\n",
    "\n",
    "    return result\n",
    "\n",
    "test1 = '가격은 3,500원입니다.'\n",
    "print(solution(test1))\n",
    "\n",
    "test2 = '숫2자1가79 중45간에6 포=-함되어0 8있62습니25다.'\n",
    "print(solution(test2))"
   ]
  },
  {
   "cell_type": "code",
   "execution_count": 3,
   "metadata": {},
   "outputs": [
    {
     "name": "stdout",
     "output_type": "stream",
     "text": [
      "3500\n",
      "2179456086225\n"
     ]
    }
   ],
   "source": [
    "# solution 2\n",
    "# 한줄로 입력\n",
    "\n",
    "def solution(data) : \n",
    "    # 정규표현식\n",
    "    import re\n",
    "    extraction = re.findall(r'[0-9,]+', data)\n",
    "    result = ''.join(extraction).replace(',','')\n",
    "\n",
    "    return result\n",
    "\n",
    "test1 = '가격은 3,500원입니다.'\n",
    "print(solution(test1))\n",
    "\n",
    "test2 = '숫2자1가79 중45간에6 포=-함되어0 8있62습니25다.'\n",
    "print(solution(test2))\n",
    "\n"
   ]
  }
 ],
 "metadata": {
  "kernelspec": {
   "display_name": "base",
   "language": "python",
   "name": "python3"
  },
  "language_info": {
   "codemirror_mode": {
    "name": "ipython",
    "version": 3
   },
   "file_extension": ".py",
   "mimetype": "text/x-python",
   "name": "python",
   "nbconvert_exporter": "python",
   "pygments_lexer": "ipython3",
   "version": "3.11.7"
  }
 },
 "nbformat": 4,
 "nbformat_minor": 2
}
