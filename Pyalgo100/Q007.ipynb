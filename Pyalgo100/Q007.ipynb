{
 "cells": [
  {
   "cell_type": "markdown",
   "metadata": {},
   "source": [
    "# Algorithm Basic 100\n",
    "[링크](https://100.pyalgo.co.kr/?page=7#)\n",
    "\n",
    "## Q7. 업무 우선순위\n",
    "\n",
    "### 문제\n",
    " * 라이캣은 업무 우선순위에 따라 일일 업무를 보고 있습니다. 리스트 안에 업무 이름과 업무 우선순위가 함께 주어졌을 때 오름차순 업무 우선순위에 따라 업무 이름을 출력해주세요.\n",
    "\n",
    "### 제한사항\n",
    "* 0 <= 업무 우선순위 <= 9\n",
    "* 1 <= 업무의 수 <= 9\n",
    "* 업무가 없는 날은 없습니다.\n",
    "* 동일한 우선순위 업무는 주어지지 않습니다."
   ]
  },
  {
   "cell_type": "code",
   "execution_count": 4,
   "metadata": {},
   "outputs": [
    {
     "name": "stdout",
     "output_type": "stream",
     "text": [
      "['B', 'C', 'A']\n",
      "['A', 'B', 'C']\n"
     ]
    }
   ],
   "source": [
    "# solution\n",
    "\n",
    "def solution(data):\n",
    "    # data 리스트를 우선순위를 기준으로 정렬합니다.\n",
    "    # sorted의 기본 정렬은 [0]의 값이기 때문에, 원하는 키로 정렬을 설정합니다.\n",
    "    # 정렬 결과는 저장되지 않으므로 새로운 변수에 선언합니다.\n",
    "    sorted_tasks = sorted(data, key=lambda task: task[1])\n",
    "    # 결과를 보고싶다면,\n",
    "    # print(sorted_tasks)\n",
    "    \n",
    "    \n",
    "    # 정렬된 리스트에서 업무 이름만 추출합니다.\n",
    "    sorted_task_nm = [task[0] for task in sorted_tasks]\n",
    "    \n",
    "    return sorted_task_nm\n",
    "\n",
    "# 예제 입력\n",
    "tasks1 = [['A', 3], ['B', 1], ['C', 2]]\n",
    "tasks2 = [['A', 1], ['B', 2], ['C', 3]]\n",
    "\n",
    "# 함수 호출 및 출력\n",
    "print(solution(tasks1))  # ['B', 'C', 'A']\n",
    "print(solution(tasks2))  # ['A', 'B', 'C']"
   ]
  }
 ],
 "metadata": {
  "kernelspec": {
   "display_name": "base",
   "language": "python",
   "name": "python3"
  },
  "language_info": {
   "codemirror_mode": {
    "name": "ipython",
    "version": 3
   },
   "file_extension": ".py",
   "mimetype": "text/x-python",
   "name": "python",
   "nbconvert_exporter": "python",
   "pygments_lexer": "ipython3",
   "version": "3.11.7"
  }
 },
 "nbformat": 4,
 "nbformat_minor": 2
}
