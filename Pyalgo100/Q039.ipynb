{
 "cells": [
  {
   "cell_type": "markdown",
   "metadata": {},
   "source": [
    "# Algorithm Basic 100\n",
    "[링크](https://100.pyalgo.co.kr/?page=39#)\n",
    "\n",
    "## Q39. 파일 확장자 추출\n",
    "\n",
    "### 문제\n",
    " * 주어진 파일 경로 또는 URL에서 파일 확장자를 추출하는 함수를 작성해주세요. 파일 확장자는 파일명 뒤에 오는 마지막 점(.) 뒤의 문자열입니다. 파일 확장자가 없는 경우, 빈 문자열을 반환합니다.\n",
    " * 예를 들어 문자열 \"example/document.pdf\"에서 함수는 pdf를, \"example/folder\"에서는 빈 문자열을 반환해야 합니다.\n",
    "\n",
    "### 제한사항\n",
    " * 파일 경로 또는 URL은 문자열로 주어집니다.\n",
    " * 파일 경로 또는 URL의 최대 길이는 1000자 입니다. \n"
   ]
  },
  {
   "cell_type": "code",
   "execution_count": 12,
   "metadata": {},
   "outputs": [],
   "source": [
    "#solution\n",
    "def solution(data) :\n",
    "    # 점의 위치(인덱스) 찾기\n",
    "    dot_index = data.rfind('.')\n",
    "    \n",
    "    # 파일 확장자가 제일 마지막에 존재하거나(-1) 없는 경우(0) 빈 문자열 반환\n",
    "    if dot_index == -1 or dot_index == len(data)-1 :\n",
    "        return \"\"\n",
    "    \n",
    "    # 점의 위치(인덱스) 다음부터 마지막까지 문자열 들고오기\n",
    "    \n",
    "    return data[dot_index+1:]"
   ]
  },
  {
   "cell_type": "code",
   "execution_count": 14,
   "metadata": {},
   "outputs": [
    {
     "name": "stdout",
     "output_type": "stream",
     "text": [
      "pdf\n",
      "jpg\n",
      "\n",
      "gz\n"
     ]
    }
   ],
   "source": [
    "# test\n",
    "test1 = \"example/document.pdf\"\n",
    "test2 = \"https://www.example.com/image.jpg\"\n",
    "test3 = \"example/folder\"\n",
    "test4 = \"archive.tar.gz\"\n",
    "\n",
    "print(solution(test1)) # pdf\n",
    "print(solution(test2)) # jpg\n",
    "print(solution(test3)) # \"\"\n",
    "print(solution(test4)) # gz"
   ]
  },
  {
   "cell_type": "code",
   "execution_count": null,
   "metadata": {},
   "outputs": [],
   "source": []
  }
 ],
 "metadata": {
  "kernelspec": {
   "display_name": "base",
   "language": "python",
   "name": "python3"
  },
  "language_info": {
   "codemirror_mode": {
    "name": "ipython",
    "version": 3
   },
   "file_extension": ".py",
   "mimetype": "text/x-python",
   "name": "python",
   "nbconvert_exporter": "python",
   "pygments_lexer": "ipython3",
   "version": "3.11.7"
  }
 },
 "nbformat": 4,
 "nbformat_minor": 2
}
