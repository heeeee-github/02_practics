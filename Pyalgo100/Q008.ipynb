{
 "cells": [
  {
   "cell_type": "markdown",
   "metadata": {},
   "source": [
    "# Algorithm Basic 100\n",
    "[링크](https://100.pyalgo.co.kr/?page=8#)\n",
    "\n",
    "## Q8. 두 점 사이의 거리\n",
    "\n",
    "### 문제\n",
    " * 직선 위에 각각 점이 [1,3,5,6,10,12,19] 찍혀져 있을 때, 두 점 사이의 거리가 가장 짧은 것은 [5,6]입니다. 두 점 사이가 가장 짧은 쌍을 출력하는 solution함수를 완성해주세요.\n",
    "\n",
    "### 제한사항\n",
    "* 1 <= 직선 위에 점의 수 <= 9\n",
    "* 1 <= 직선 위에 점의 값 <= 100\n",
    "* 가장 짧은 것은 항상 1개입니다.\n"
   ]
  },
  {
   "cell_type": "code",
   "execution_count": 3,
   "metadata": {},
   "outputs": [
    {
     "name": "stdout",
     "output_type": "stream",
     "text": [
      "[5, 6]\n"
     ]
    }
   ],
   "source": [
    "# solution\n",
    "\n",
    "def solution(data) :\n",
    "    \n",
    "    # 정렬\n",
    "    data.sort()\n",
    "    \n",
    "    # 짧은거리 초기화\n",
    "    min_distance = float('inf')\n",
    "    closest_pair = []\n",
    "    \n",
    "    # 인접거리 계산\n",
    "    for i in range(len(data)-1) : \n",
    "        \n",
    "        # 오름차순으로 정렬한 리스트에서 인덱스 순서에 따른 값 확인\n",
    "        distance = data[i+1] - data[i]\n",
    "        \n",
    "        # 길이를 계산\n",
    "        # 초기 min값 / 이전 min값 보다 작으면 할당 \n",
    "        if distance < min_distance : \n",
    "            min_distance = distance\n",
    "            closest_pair = [data[i],data[i+1]]\n",
    "    return closest_pair\n",
    "    \n",
    "test = [1,3,5,6,10,12,19]\n",
    "\n",
    "print(solution(test))\n"
   ]
  }
 ],
 "metadata": {
  "kernelspec": {
   "display_name": "base",
   "language": "python",
   "name": "python3"
  },
  "language_info": {
   "codemirror_mode": {
    "name": "ipython",
    "version": 3
   },
   "file_extension": ".py",
   "mimetype": "text/x-python",
   "name": "python",
   "nbconvert_exporter": "python",
   "pygments_lexer": "ipython3",
   "version": "3.11.7"
  }
 },
 "nbformat": 4,
 "nbformat_minor": 2
}
