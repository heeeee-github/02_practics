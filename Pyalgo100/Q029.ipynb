{
 "cells": [
  {
   "cell_type": "markdown",
   "metadata": {},
   "source": [
    "# Algorithm Basic 100\n",
    "[링크](https://100.pyalgo.co.kr/?page=29#)\n",
    "\n",
    "## Q29. 단일 숫자 찾기\n",
    "\n",
    "### 문제\n",
    " * 정수로 이루어진 배열이 주어집니다. 이 배열에서 정확히 한 번만 나타나는 숫자를 찾아 반환하는 코드를 작성해주세요. 모든 숫자는 정확히 두 번 나타나는데, 오직 하나의 숫자만 한 번만 나타납니다.\n",
    "\n",
    "### 제한사항\n",
    "* 배열의 길이는 1 이상 10,000 이하입니다.\n",
    "* 배열의 요소는 정수입니다.\n"
   ]
  },
  {
   "cell_type": "code",
   "execution_count": 31,
   "metadata": {},
   "outputs": [],
   "source": [
    "# solution\n",
    "def solution(data):\n",
    "    pass"
   ]
  },
  {
   "cell_type": "code",
   "execution_count": 32,
   "metadata": {},
   "outputs": [
    {
     "name": "stdout",
     "output_type": "stream",
     "text": [
      "[4]\n",
      "[4]\n"
     ]
    }
   ],
   "source": [
    "test1 = [4,1,2,5,1,2]\n",
    "test2 = [4,15,1,2]\n",
    "print(solution(test1))\n",
    "print(solution(test2))\n",
    "\n"
   ]
  }
 ],
 "metadata": {
  "kernelspec": {
   "display_name": "base",
   "language": "python",
   "name": "python3"
  },
  "language_info": {
   "codemirror_mode": {
    "name": "ipython",
    "version": 3
   },
   "file_extension": ".py",
   "mimetype": "text/x-python",
   "name": "python",
   "nbconvert_exporter": "python",
   "pygments_lexer": "ipython3",
   "version": "3.11.7"
  }
 },
 "nbformat": 4,
 "nbformat_minor": 2
}
