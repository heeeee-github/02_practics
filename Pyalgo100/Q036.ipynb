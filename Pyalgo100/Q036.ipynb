{
 "cells": [
  {
   "cell_type": "markdown",
   "metadata": {},
   "source": [
    "# Algorithm Basic 100\n",
    "[링크](https://100.pyalgo.co.kr/?page=36#)\n",
    "\n",
    "## Q36. 전화번호 형식 변환\n",
    "\n",
    "### 문제\n",
    " * 주어진 문자열에서 전화번호를 찾아 표준 형식으로 변환하는 함수를 작성해주세요. 전화번호는 10자리 또는 11자리 숫자(예: 01012345678, 03112345678)입니다. 변환된 형식은 XXX-XXXX-XXXX 형식이어야 합니다(예: 010-1234-5678, 031-1234-5678).\n",
    "\n",
    "* 특이사항: 서비스는 모듈을 쓰지 못하게 되어 있으나 처음에 solution 코드 없이 import re만 입력하여 한 번 실행하면 그 다음 코드부터 import re를 하지 않아도 사용 가능합니다. solution 함수 내에 re 모듈을 사용하셔도 애러가 나지 않습니다. 코드 내에는 solution 함수만 있어야 하므로 이 2개가 있지 않도록 주의해주세요. 어려우신 분은 제주코딩베이스캠프 유튜브 채널 33번 문제 영상을 참고해주세요.\n",
    "\n",
    "### 제한사항\n",
    "* 문자열은 하나 이상의 전화번호를 포함할 수 있습니다.\n",
    "* 입력 문자열의 길이는 최대 1000자 입니다.\n",
    "\n"
   ]
  },
  {
   "cell_type": "code",
   "execution_count": 13,
   "metadata": {},
   "outputs": [],
   "source": [
    "#solution \n",
    "\n",
    "def solution(data):\n",
    "\n",
    "    # 정규표현식으로 전화번호 찾기(10~11자리)\n",
    "    import re\n",
    "    num_matches = re.compile(r'\\b\\d{10,11}\\b').findall(data)\n",
    "\n",
    "    # 숫자가 없는 경우 \n",
    "    if not num_matches:\n",
    "        return \"No numbers here.\"\n",
    "    \n",
    "    formatted_numbers = []\n",
    "    for num in num_matches:\n",
    "        # 길이에 따라 표준형식 변경\n",
    "        if len(num) == 10:  # 10자리\n",
    "            formatted = f\"{num[:3]}-{num[3:6]}-{num[6:]}\"\n",
    "        elif len(num) == 11:  # 11자리\n",
    "            formatted = f\"{num[:3]}-{num[3:7]}-{num[7:]}\"\n",
    "        else:\n",
    "            return \"error\"\n",
    "\n",
    "        # 표준형식 변경 결과 저장\n",
    "        formatted_numbers.append(formatted)\n",
    "    \n",
    "    # 각 전화번호를 표준 형식으로 변환하고 텍스트(data) 내에서 교체\n",
    "    # original : 기존에 추출한 번호(num_matches)\n",
    "    # formatted : 표준형식 변경 번호(formatted_numbers)\n",
    "    for original, formatted in zip(num_matches, formatted_numbers):\n",
    "        data = data.replace(original, formatted)\n",
    "\n",
    "    return data"
   ]
  },
  {
   "cell_type": "code",
   "execution_count": 14,
   "metadata": {},
   "outputs": [
    {
     "name": "stdout",
     "output_type": "stream",
     "text": [
      "제 전화번호는 031-123-4567, 064-1234-5678 입니다.\n",
      "No numbers here.\n"
     ]
    }
   ],
   "source": [
    "# test\n",
    "\n",
    "# 테스트 예제\n",
    "text1 = \"제 전화번호는 0311234567, 06412345678 입니다.\"\n",
    "text2 = \"No numbers here.\"\n",
    "\n",
    "print(solution(text1))  # \"제 전화번호는 031-123-4567, 064-1234-5678 입니다.\"\n",
    "print(solution(text2))  # \"No numbers here.\"\n",
    "\n"
   ]
  },
  {
   "cell_type": "code",
   "execution_count": null,
   "metadata": {},
   "outputs": [],
   "source": []
  }
 ],
 "metadata": {
  "kernelspec": {
   "display_name": "base",
   "language": "python",
   "name": "python3"
  },
  "language_info": {
   "codemirror_mode": {
    "name": "ipython",
    "version": 3
   },
   "file_extension": ".py",
   "mimetype": "text/x-python",
   "name": "python",
   "nbconvert_exporter": "python",
   "pygments_lexer": "ipython3",
   "version": "3.11.7"
  }
 },
 "nbformat": 4,
 "nbformat_minor": 2
}
