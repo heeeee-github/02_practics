{
 "cells": [
  {
   "cell_type": "markdown",
   "metadata": {},
   "source": [
    "# Algorithm Basic 100\n",
    "[링크](https://100.pyalgo.co.kr/?page=36#)\n",
    "\n",
    "## Q36. 전화번호 형식 변환\n",
    "\n",
    "### 문제\n",
    " * 주어진 문자열에서 전화번호를 찾아 표준 형식으로 변환하는 함수를 작성해주세요. 전화번호는 10자리 또는 11자리 숫자(예: 01012345678, 03112345678)입니다. 변환된 형식은 XXX-XXXX-XXXX 형식이어야 합니다(예: 010-1234-5678, 031-1234-5678).\n",
    "\n",
    "* 특이사항: 서비스는 모듈을 쓰지 못하게 되어 있으나 처음에 solution 코드 없이 import re만 입력하여 한 번 실행하면 그 다음 코드부터 import re를 하지 않아도 사용 가능합니다. solution 함수 내에 re 모듈을 사용하셔도 애러가 나지 않습니다. 코드 내에는 solution 함수만 있어야 하므로 이 2개가 있지 않도록 주의해주세요. 어려우신 분은 제주코딩베이스캠프 유튜브 채널 33번 문제 영상을 참고해주세요.\n",
    "\n",
    "### 제한사항\n",
    "* 문자열은 하나 이상의 전화번호를 포함할 수 있습니다.\n",
    "* 입력 문자열의 길이는 최대 1000자 입니다.\n",
    "\n"
   ]
  },
  {
   "cell_type": "code",
   "execution_count": 4,
   "metadata": {},
   "outputs": [],
   "source": [
    "#solution\n",
    "\n",
    "def solution(data) : \n",
    "    import re \n",
    "    \n",
    "    #정규표현식으로 숫자 확인\n",
    "    num = re.findall(r'[0-9]+',data)\n",
    "    \n",
    "    \n",
    "    return num "
   ]
  },
  {
   "cell_type": "code",
   "execution_count": 5,
   "metadata": {},
   "outputs": [
    {
     "name": "stdout",
     "output_type": "stream",
     "text": [
      "['0311234567', '06412345678']\n",
      "[]\n"
     ]
    }
   ],
   "source": [
    "# test\n",
    "test1 = '제 전화번호는 0311234567, 06412345678 입니다.'\n",
    "test2 = 'No numbers here.'\n",
    "\n",
    "print(solution(test1))\n",
    "print(solution(test2))"
   ]
  },
  {
   "cell_type": "code",
   "execution_count": 7,
   "metadata": {},
   "outputs": [
    {
     "name": "stdout",
     "output_type": "stream",
     "text": [
      "문의사항이 있으면 010-1234-5678 또는 031-1234-5678 로 연락주세요.\n"
     ]
    }
   ],
   "source": [
    "import re\n",
    "\n",
    "def format_phone_number(phone_number):\n",
    "    # 전화번호가 10자리인 경우\n",
    "    if len(phone_number) == 10:\n",
    "        return f\"{phone_number[:3]}-{phone_number[3:6]}-{phone_number[6:]}\"\n",
    "    # 전화번호가 11자리인 경우\n",
    "    elif len(phone_number) == 11:\n",
    "        return f\"{phone_number[:3]}-{phone_number[3:7]}-{phone_number[7:]}\"\n",
    "    else:\n",
    "        return phone_number  # 유효하지 않은 전화번호는 그대로 반환\n",
    "\n",
    "def find_and_format_phone_numbers(text):\n",
    "    # 전화번호 패턴 찾기 (10자리 또는 11자리 숫자)\n",
    "    phone_pattern = re.compile(r'\\b\\d{10,11}\\b')\n",
    "    \n",
    "    # 텍스트 내에서 모든 전화번호 찾기\n",
    "    matches = phone_pattern.findall(text)\n",
    "    \n",
    "    # 각 전화번호를 표준 형식으로 변환하고 텍스트 내에서 교체\n",
    "    for number in matches:\n",
    "        formatted_number = format_phone_number(number)\n",
    "        text = text.replace(number, formatted_number)\n",
    "    \n",
    "    return text\n",
    "\n",
    "# 예제 사용법\n",
    "text = \"문의사항이 있으면 01012345678 또는 03112345678 로 연락주세요.\"\n",
    "formatted_text = find_and_format_phone_numbers(text)\n",
    "print(formatted_text)  # \"문의사항이 있으면 010-1234-5678 또는 031-1234-5678 로 연락주세요.\"\n"
   ]
  },
  {
   "cell_type": "code",
   "execution_count": 8,
   "metadata": {},
   "outputs": [
    {
     "name": "stdout",
     "output_type": "stream",
     "text": [
      "문의사항이 있으면 010-1234-5678 또는 031-1234-5678 로 연락주세요.\n"
     ]
    }
   ],
   "source": [
    "import re\n",
    "\n",
    "def solution(text):\n",
    "    def format_phone_number(phone_number):\n",
    "        # 전화번호가 10자리인 경우\n",
    "        if len(phone_number) == 10:\n",
    "            return f\"{phone_number[:3]}-{phone_number[3:6]}-{phone_number[6:]}\"\n",
    "        # 전화번호가 11자리인 경우\n",
    "        elif len(phone_number) == 11:\n",
    "            return f\"{phone_number[:3]}-{phone_number[3:7]}-{phone_number[7:]}\"\n",
    "        else:\n",
    "            return phone_number  # 유효하지 않은 전화번호는 그대로 반환\n",
    "\n",
    "    # 전화번호 패턴 찾기 (10자리 또는 11자리 숫자)\n",
    "    phone_pattern = re.compile(r'\\b\\d{10,11}\\b')\n",
    "    \n",
    "    # 텍스트 내에서 모든 전화번호 찾기\n",
    "    matches = phone_pattern.findall(text)\n",
    "    \n",
    "    # 각 전화번호를 표준 형식으로 변환하고 텍스트 내에서 교체\n",
    "    for number in matches:\n",
    "        formatted_number = format_phone_number(number)\n",
    "        text = text.replace(number, formatted_number)\n",
    "    \n",
    "    return text\n",
    "\n",
    "# 예제 사용법\n",
    "text = \"문의사항이 있으면 01012345678 또는 03112345678 로 연락주세요.\"\n",
    "formatted_text = solution(text)\n",
    "print(formatted_text)  # \"문의사항이 있으면 010-1234-5678 또는 031-1234-5678 로 연락주세요.\"\n"
   ]
  }
 ],
 "metadata": {
  "kernelspec": {
   "display_name": "base",
   "language": "python",
   "name": "python3"
  },
  "language_info": {
   "codemirror_mode": {
    "name": "ipython",
    "version": 3
   },
   "file_extension": ".py",
   "mimetype": "text/x-python",
   "name": "python",
   "nbconvert_exporter": "python",
   "pygments_lexer": "ipython3",
   "version": "3.11.7"
  }
 },
 "nbformat": 4,
 "nbformat_minor": 2
}
