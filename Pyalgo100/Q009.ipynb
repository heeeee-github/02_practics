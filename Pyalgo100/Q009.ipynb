{
 "cells": [
  {
   "cell_type": "markdown",
   "metadata": {},
   "source": [
    "# Algorithm Basic 100\n",
    "[링크](https://100.pyalgo.co.kr/?page=9#)\n",
    "\n",
    "## Q9. 수학은 내가 1등\n",
    "\n",
    "### 문제\n",
    " * 이름, 국영수 점수가 {'이름': '홍길동', '국': 70, '영': 30, '수':20}와 같이 딕셔너리 형태로 주어졌을 때 반 점수는 [{'이름': 'A'...}, {'이름': 'B'...}, {'이름': 'C'...}]와 같은 형태로 주어집니다. 이 때 반에서 수학점수가 가장 높은 학생의 이름을 출력하는 solution함수를 완성해주세요.\n",
    "\n",
    "### 제한사항\n",
    "* 0 <= 점수 <= 100\n",
    "* 1 <= 점수 <= 5\n",
    "* 학생이 없거나, 시험을 보지 않는 경우는 없습니다.\n",
    "* 동점이 경우는 없습니다.\n",
    "\n"
   ]
  },
  {
   "cell_type": "code",
   "execution_count": 2,
   "metadata": {},
   "outputs": [
    {
     "name": "stdout",
     "output_type": "stream",
     "text": [
      "A\n"
     ]
    }
   ],
   "source": [
    "#solution\n",
    "\n",
    "def solution(data) : \n",
    "    best_student = max(data, key = lambda student : student['수'])\n",
    "    return best_student['이름']\n",
    "\n",
    "\n",
    "test = [{'이름': 'A', '국': 30, '영': 20, '수': 85}, {'이름': 'B', '국': 95, '영': 98, '수': 10}]\n",
    "print(solution(test))\n",
    "\n"
   ]
  }
 ],
 "metadata": {
  "kernelspec": {
   "display_name": "base",
   "language": "python",
   "name": "python3"
  },
  "language_info": {
   "codemirror_mode": {
    "name": "ipython",
    "version": 3
   },
   "file_extension": ".py",
   "mimetype": "text/x-python",
   "name": "python",
   "nbconvert_exporter": "python",
   "pygments_lexer": "ipython3",
   "version": "3.11.7"
  }
 },
 "nbformat": 4,
 "nbformat_minor": 2
}
