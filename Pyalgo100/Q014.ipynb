{
 "cells": [
  {
   "cell_type": "markdown",
   "metadata": {},
   "source": [
    "# Algorithm Basic 100\n",
    "[링크](https://100.pyalgo.co.kr/?page=14#)\n",
    "\n",
    "## Q14. 도서관 책 코드별 정렬\n",
    "\n",
    "### 문제\n",
    " * 도서관의 책들은 각각 고유한 위치 코드를 가지고 있습니다. 책의 위치 코드와 해당 위치 코드에 대응하는 책의 제목이 딕셔너리 형태로 주어질 때, 위치 코드 순으로 책의 제목을 정렬하는 코드를 작성해주세요. 위치 코드는 문자열로 구성되며, 사전순으로 정렬합니다.\n",
    "\n",
    "### 제한사항\n",
    "* 위치 코드는 영문 대소문자와 숫자로 구성된 문자열입니다.\n",
    "* 위치 코드의 길이는 최대 10자입니다.\n",
    "* 도서관에는 최소 1권에서 최대 100권의 책이 있습니다.\n",
    "* 같은 위치 코드를 가진 책은 없습니다.\n",
    "\n"
   ]
  },
  {
   "cell_type": "code",
   "execution_count": 5,
   "metadata": {},
   "outputs": [],
   "source": [
    "#solution\n",
    "def solution(data) : \n",
    "    # 위치코드를 사전순으로 정렬\n",
    "    sorted_keys = sorted(data.keys())\n",
    "    \n",
    "    # 위치에 따라 책 제목 추출\n",
    "    sorted_titles = []\n",
    "    for key in sorted_keys : \n",
    "        sorted_titles.append(data[key])\n",
    "    \n",
    "    return sorted_titles\n"
   ]
  },
  {
   "cell_type": "code",
   "execution_count": 2,
   "metadata": {},
   "outputs": [],
   "source": [
    "#solution\n",
    "def solution(data) : \n",
    "    # 위치코드를 사전순으로 정렬\n",
    "    sorted_keys = sorted(data.keys())\n",
    "    \n",
    "    # 위치에 따라 책 제목 추출\n",
    "    # 컴프리헨션\n",
    "    sorted_titles = [data[key] for key in sorted_keys]\n",
    "    \n",
    "    return sorted_titles\n"
   ]
  },
  {
   "cell_type": "code",
   "execution_count": 6,
   "metadata": {},
   "outputs": [
    {
     "name": "stdout",
     "output_type": "stream",
     "text": [
      "['Moby Dick', '1984', 'To Kill a Mockingbird']\n"
     ]
    }
   ],
   "source": [
    "# test\n",
    "test = {'AX21': 'Moby Dick', 'BX32': '1984', 'CX14': 'To Kill a Mockingbird'}\n",
    "\n",
    "print(solution(test))"
   ]
  }
 ],
 "metadata": {
  "kernelspec": {
   "display_name": "base",
   "language": "python",
   "name": "python3"
  },
  "language_info": {
   "codemirror_mode": {
    "name": "ipython",
    "version": 3
   },
   "file_extension": ".py",
   "mimetype": "text/x-python",
   "name": "python",
   "nbconvert_exporter": "python",
   "pygments_lexer": "ipython3",
   "version": "3.11.7"
  }
 },
 "nbformat": 4,
 "nbformat_minor": 2
}
