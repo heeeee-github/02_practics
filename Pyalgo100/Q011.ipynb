{
 "cells": [
  {
   "cell_type": "markdown",
   "metadata": {},
   "source": [
    "# Algorithm Basic 100\n",
    "[링크](https://100.pyalgo.co.kr/?page=11#)\n",
    "\n",
    "## Q11. 평균 점수 카운팅\n",
    "\n",
    "### 문제\n",
    " * 반 별 점수가 [국, 영, 수]로 인원만큼 주어집니다. 평균 점수가 80점 이상인 인원은 얼마나 되는지 카운팅하는 solution 함수를 완성해주세요.\n",
    "\n",
    "### 제한사항\n",
    "* 1 <= 학생 수 <= 10\n",
    "* 0 <= 점수 <= 100\n",
    "* 소수점 점수는 없습니다.\n",
    "\n"
   ]
  },
  {
   "cell_type": "code",
   "execution_count": 10,
   "metadata": {},
   "outputs": [],
   "source": [
    "#solution\n",
    "\n",
    "def solution(data) :\n",
    "    over_students = 0\n",
    "    \n",
    "    for score in data :\n",
    "        avg_score = sum(score)/len(score)\n",
    "        \n",
    "        if avg_score >= 80 :\n",
    "            over_students += 1\n",
    "\n",
    "    return over_students\n",
    "\n",
    "\n"
   ]
  },
  {
   "cell_type": "code",
   "execution_count": 11,
   "metadata": {},
   "outputs": [
    {
     "name": "stdout",
     "output_type": "stream",
     "text": [
      "2\n",
      "3\n"
     ]
    }
   ],
   "source": [
    "test1 = [[98, 92, 85], [95, 32, 51], [98, 98, 51]]\n",
    "test2 = [[92, 85, 97], [30, 21, 60], [90, 99, 98], [0, 0, 0], [81, 80, 88, 83]]\n",
    "\n",
    "print(solution(test1))\n",
    "print(solution(test2))\n",
    "\n",
    "\n"
   ]
  }
 ],
 "metadata": {
  "kernelspec": {
   "display_name": "base",
   "language": "python",
   "name": "python3"
  },
  "language_info": {
   "codemirror_mode": {
    "name": "ipython",
    "version": 3
   },
   "file_extension": ".py",
   "mimetype": "text/x-python",
   "name": "python",
   "nbconvert_exporter": "python",
   "pygments_lexer": "ipython3",
   "version": "3.11.7"
  }
 },
 "nbformat": 4,
 "nbformat_minor": 2
}
