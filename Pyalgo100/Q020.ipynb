{
 "cells": [
  {
   "cell_type": "markdown",
   "metadata": {},
   "source": [
    "# Algorithm Basic 100\n",
    "[링크](https://100.pyalgo.co.kr/?page=20#)\n",
    "\n",
    "## Q20. 데이터 타입 확인\n",
    "\n",
    "### 문제\n",
    " * 여러 클래스 이름과 이 이름의 인스턴스가 주어집니다. 각 인스턴스가 특정 클래스의 인스턴스인지 확인하는 코드를 작성해주세요.\n",
    "\n",
    "### 제한사항\n",
    " * 클래스는 파이썬의 기본 데이터 타입입니다.\n",
    " * 안에 클래스와 인스턴스 매칭이 모두 올바른 경우 True를 그 외의 경우에는 False를 반환해주세요.\n",
    " * isinstance와 issubclass 함수를 사용하진 않습니다.\n"
   ]
  },
  {
   "cell_type": "code",
   "execution_count": 3,
   "metadata": {},
   "outputs": [],
   "source": [
    "#solution\n",
    "def solution(class_instance_pairs):\n",
    "    for class_name, instance in class_instance_pairs:\n",
    "        try:\n",
    "            # 문자열로 주어진 클래스 이름을 실제 클래스 객체로 변환\n",
    "            # eval : 문자열로 표현된 파이썬 코드를 실행하고 그 결과를 반환\n",
    "            class_type = eval(class_name)\n",
    "        except NameError:\n",
    "            # 클래스 이름이 잘못된 경우 False 반환\n",
    "            return False\n",
    "        \n",
    "        # 인스턴스가 해당 클래스의 인스턴스인지 확인\n",
    "        if not isinstance(instance, class_type):\n",
    "            return False\n",
    "    \n",
    "    # 모든 인스턴스가 올바른 클래스의 인스턴스인 경우 True 반환\n",
    "    return True\n",
    "\n"
   ]
  },
  {
   "cell_type": "code",
   "execution_count": 4,
   "metadata": {},
   "outputs": [
    {
     "name": "stdout",
     "output_type": "stream",
     "text": [
      "True\n",
      "False\n"
     ]
    }
   ],
   "source": [
    "# 예제 입력\n",
    "input1 = [('list', [1, 2, 3]), ('int', 4), ('str', 'hello')]\n",
    "input2 = [('str', 100), ('dict', {'a': 1}), ('tuple', (1, 2, 3))]\n",
    "\n",
    "# 결과 확인\n",
    "print(solution(input1))  # True\n",
    "print(solution(input2))  # False\n",
    "\n"
   ]
  }
 ],
 "metadata": {
  "kernelspec": {
   "display_name": "base",
   "language": "python",
   "name": "python3"
  },
  "language_info": {
   "codemirror_mode": {
    "name": "ipython",
    "version": 3
   },
   "file_extension": ".py",
   "mimetype": "text/x-python",
   "name": "python",
   "nbconvert_exporter": "python",
   "pygments_lexer": "ipython3",
   "version": "3.11.7"
  }
 },
 "nbformat": 4,
 "nbformat_minor": 2
}
