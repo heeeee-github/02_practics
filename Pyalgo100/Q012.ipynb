{
 "cells": [
  {
   "cell_type": "markdown",
   "metadata": {},
   "source": [
    "# Algorithm Basic 100\n",
    "[링크](https://100.pyalgo.co.kr/?page=9#)\n",
    "\n",
    "## Q12. 우편 번호 정렬\n",
    "\n",
    "### 문제\n",
    " * 각 주소가 담긴 배열과 우편번호 목록이 딕셔너리 형태로 주어질 때, 우편번호 오름차순 순서대로 주소를 정렬하는 코드를 작성해주세요.\n",
    "\n",
    "### 제한사항\n",
    "* 63002 <= 우편번호 <= 63364\n",
    "* 우편번호는 항상 '시-동-길'순으로 주어집니다.(예외사항은 없습니다.)\n",
    "* 같은 동은 주어지지 않으며, 같은 우편번호도 주어지지 않습니다.\n",
    "\n"
   ]
  },
  {
   "cell_type": "code",
   "execution_count": 18,
   "metadata": {},
   "outputs": [],
   "source": [
    "#solution\n",
    "def solution(data) : \n",
    "    pass \n"
   ]
  },
  {
   "cell_type": "code",
   "execution_count": 19,
   "metadata": {},
   "outputs": [
    {
     "ename": "AttributeError",
     "evalue": "'list' object has no attribute 'split'",
     "output_type": "error",
     "traceback": [
      "\u001b[1;31m---------------------------------------------------------------------------\u001b[0m",
      "\u001b[1;31mAttributeError\u001b[0m                            Traceback (most recent call last)",
      "Cell \u001b[1;32mIn[19], line 3\u001b[0m\n\u001b[0;32m      1\u001b[0m test \u001b[38;5;241m=\u001b[39m [[\u001b[38;5;124m'\u001b[39m\u001b[38;5;124m제주시 A동 한라산길 61\u001b[39m\u001b[38;5;124m'\u001b[39m, \u001b[38;5;124m'\u001b[39m\u001b[38;5;124m제주시 B동 백록담길 63\u001b[39m\u001b[38;5;124m'\u001b[39m, \u001b[38;5;124m'\u001b[39m\u001b[38;5;124m제주시 C동 사라봉길 31\u001b[39m\u001b[38;5;124m'\u001b[39m], {\u001b[38;5;124m'\u001b[39m\u001b[38;5;124mA동\u001b[39m\u001b[38;5;124m'\u001b[39m: \u001b[38;5;241m63007\u001b[39m, \u001b[38;5;124m'\u001b[39m\u001b[38;5;124mB동\u001b[39m\u001b[38;5;124m'\u001b[39m: \u001b[38;5;241m63010\u001b[39m, \u001b[38;5;124m'\u001b[39m\u001b[38;5;124mC동\u001b[39m\u001b[38;5;124m'\u001b[39m: \u001b[38;5;241m63002\u001b[39m}]\n\u001b[1;32m----> 3\u001b[0m \u001b[38;5;28mprint\u001b[39m(solution(test))\n",
      "Cell \u001b[1;32mIn[18], line 5\u001b[0m, in \u001b[0;36msolution\u001b[1;34m(data)\u001b[0m\n\u001b[0;32m      3\u001b[0m \u001b[38;5;28;01mdef\u001b[39;00m \u001b[38;5;21msolution\u001b[39m(data) : \n\u001b[0;32m      4\u001b[0m     \u001b[38;5;28;01mfor\u001b[39;00m i \u001b[38;5;129;01min\u001b[39;00m \u001b[38;5;28mrange\u001b[39m(\u001b[38;5;28mlen\u001b[39m(data)) :\n\u001b[1;32m----> 5\u001b[0m         dong \u001b[38;5;241m=\u001b[39m data[i]\u001b[38;5;241m.\u001b[39msplit(\u001b[38;5;124m'\u001b[39m\u001b[38;5;124m \u001b[39m\u001b[38;5;124m'\u001b[39m)\n\u001b[0;32m      6\u001b[0m     \u001b[38;5;28;01mreturn\u001b[39;00m \u001b[38;5;28mprint\u001b[39m(dong)\n",
      "\u001b[1;31mAttributeError\u001b[0m: 'list' object has no attribute 'split'"
     ]
    }
   ],
   "source": [
    "test = [['제주시 A동 한라산길 61', '제주시 B동 백록담길 63', '제주시 C동 사라봉길 31'], {'A동': 63007, 'B동': 63010, 'C동': 63002}]\n",
    "\n",
    "print(solution(test))"
   ]
  }
 ],
 "metadata": {
  "kernelspec": {
   "display_name": "base",
   "language": "python",
   "name": "python3"
  },
  "language_info": {
   "codemirror_mode": {
    "name": "ipython",
    "version": 3
   },
   "file_extension": ".py",
   "mimetype": "text/x-python",
   "name": "python",
   "nbconvert_exporter": "python",
   "pygments_lexer": "ipython3",
   "version": "3.11.7"
  }
 },
 "nbformat": 4,
 "nbformat_minor": 2
}
