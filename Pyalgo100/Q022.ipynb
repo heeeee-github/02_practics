{
 "cells": [
  {
   "cell_type": "markdown",
   "metadata": {},
   "source": [
    "# Algorithm Basic 100\n",
    "[링크](https://100.pyalgo.co.kr/?page=22#)\n",
    "\n",
    "## Q22. 2차원 배열 탐색\n",
    "\n",
    "### 문제\n",
    " * 2차원 배열과 타겟 숫자가 주어집니다. 주어진 2차원 배열에서 타겟 숫자가 존재하는지 확인하고, 존재하는 경우 True를, 존재하지 않는 경우 False를 반환하는 코드를 작성해주세요.\n",
    "\n",
    "### 제한사항\n",
    " * 2차원 배열은 m x n 크기이며, 각 요소는 정수입니다.\n",
    " * 배열의 각 행은 오름차순으로 정렬되어 있습니다.\n",
    " * m과 n은 각각 최소 1에서 최대 100까지입니다.\n"
   ]
  },
  {
   "cell_type": "code",
   "execution_count": 1,
   "metadata": {},
   "outputs": [],
   "source": [
    "# solution 1\n",
    "# Binary Search\n",
    "\n",
    "def solution(data) :\n",
    "    arr = data[0] \n",
    "    target = data[1] \n",
    "    \n",
    "    for row in arr :\n",
    "        if target in row : \n",
    "            return True\n",
    "    return False\n",
    "\n",
    "    \n",
    "     "
   ]
  },
  {
   "cell_type": "code",
   "execution_count": 2,
   "metadata": {},
   "outputs": [
    {
     "name": "stdout",
     "output_type": "stream",
     "text": [
      "True\n",
      "False\n"
     ]
    }
   ],
   "source": [
    "# 예시 배열과 타겟\n",
    "test1 = ([[1, 3, 5], [7, 9, 11], [13, 15, 17]], 7)\n",
    "print(solution(test1))\n",
    "\n",
    "test2 = ([[2, 4, 6], [8, 10, 12], [14, 16, 18]], 13)\t\n",
    "print(solution(test2))\n"
   ]
  }
 ],
 "metadata": {
  "kernelspec": {
   "display_name": "base",
   "language": "python",
   "name": "python3"
  },
  "language_info": {
   "codemirror_mode": {
    "name": "ipython",
    "version": 3
   },
   "file_extension": ".py",
   "mimetype": "text/x-python",
   "name": "python",
   "nbconvert_exporter": "python",
   "pygments_lexer": "ipython3",
   "version": "3.11.7"
  }
 },
 "nbformat": 4,
 "nbformat_minor": 2
}
