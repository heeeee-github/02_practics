{
 "cells": [
  {
   "cell_type": "markdown",
   "metadata": {},
   "source": [
    "# Algorithm Basic 100\n",
    "[링크](https://100.pyalgo.co.kr/?page=5#)\n",
    "\n",
    "## Q5. 1의 갯수 반환\n",
    "\n",
    "### 문제\n",
    " * 주어진 리스트의 값 중 1의 갯수를 반환하는 solution 함수를 완성해주세요.\n",
    "\n",
    "### 제한사항\n",
    "* 0 <= 리스트 길이 <= 10\n",
    "* 1 <= 리스트 안의 수 <= 10000\n",
    "* 들어온 리스트의 값은 정수로 되어있습니다.\n",
    "* 리스트 길이가 0인 경우 0을 반환해주세요."
   ]
  },
  {
   "cell_type": "code",
   "execution_count": null,
   "metadata": {
    "vscode": {
     "languageId": "plaintext"
    }
   },
   "outputs": [],
   "source": [
    "# Solution 1\n",
    "## 숫자를 문자열로 변경 후 count\n",
    "\n",
    "def solution(data) : \n",
    "\n",
    "    # 리스트 길이가 0인 경우 0을 반환 \n",
    "    if not data : \n",
    "        return 0\n",
    "\n",
    "    # 초기값 세팅\n",
    "    count = 0\n",
    "    \n",
    "    # 1의 갯수 세기\n",
    "    for number in data : \n",
    "        str_number = str(number)\n",
    "        count += str_number.count('1')\n",
    "    return count"
   ]
  },
  {
   "cell_type": "code",
   "execution_count": null,
   "metadata": {
    "vscode": {
     "languageId": "plaintext"
    }
   },
   "outputs": [],
   "source": [
    "# Solution 2\n",
    "## list comprehension 이용 + sum()\n",
    "\n",
    "def solution(data) : \n",
    "\n",
    "    # 리스트 길이가 0인 경우 0을 반환 \n",
    "    if not data : \n",
    "        return 0\n",
    "\n",
    "    # 계산\n",
    "    count = sum(str(number).count('1') for number in data)\n",
    "\n",
    "    return count"
   ]
  }
 ],
 "metadata": {
  "language_info": {
   "name": "python"
  }
 },
 "nbformat": 4,
 "nbformat_minor": 2
}
