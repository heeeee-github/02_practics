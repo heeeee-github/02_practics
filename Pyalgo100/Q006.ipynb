{
 "cells": [
  {
   "cell_type": "markdown",
   "metadata": {},
   "source": [
    "# Algorithm Basic 100\n",
    "[링크](https://100.pyalgo.co.kr/?page=6#)\n",
    "\n",
    "## Q6. 문자열 덧셈\n",
    "\n",
    "### 문제\n",
    " * 주어진 문자열의 숫자를 모두 더하는 solution 함수를 완성해주세요.\n",
    "\n",
    "### 제한사항\n",
    "* 1 <= 리스트 안의 수 <= 9\n",
    "* 숫자가 연달아 있는 경우에는 한자리씩 잘라내어 더합니다.\n",
    "* 문자열 안에는 숫자와 문자가 조합되어 있습니다.\n",
    "* 리스트 길이가 0인 경우 0을 반환해주세요."
   ]
  },
  {
   "cell_type": "code",
   "execution_count": 1,
   "metadata": {},
   "outputs": [],
   "source": [
    "def solution(data) : \n",
    "    import re \n",
    "\n",
    "    if not data : \n",
    "        return 0\n",
    "    \n",
    "    num = re.findall(r'[0-9]{1}', data)\n",
    "    tot_num = 0\n",
    "    \n",
    "    for i in num : \n",
    "        tot_num += int(i)\n",
    "    return tot_num"
   ]
  }
 ],
 "metadata": {
  "kernelspec": {
   "display_name": "base",
   "language": "python",
   "name": "python3"
  },
  "language_info": {
   "codemirror_mode": {
    "name": "ipython",
    "version": 3
   },
   "file_extension": ".py",
   "mimetype": "text/x-python",
   "name": "python",
   "nbconvert_exporter": "python",
   "pygments_lexer": "ipython3",
   "version": "3.11.7"
  }
 },
 "nbformat": 4,
 "nbformat_minor": 2
}
