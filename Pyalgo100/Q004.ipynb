{
 "cells": [
  {
   "cell_type": "markdown",
   "metadata": {},
   "source": [
    "# Algorithm Basic 100\n",
    "[링크](https://100.pyalgo.co.kr/?page=4#)\n",
    "\n",
    "## Q4. 크리스마스 쿠키\n",
    "\n",
    "### 문제\n",
    " * 라이캣은 크리스마스 선물 룰렛 게임을 하고 있습니다. 룰렛에는 '쿠키 1개'부터 '쿠키 10개'까지 값이 들어 있습니다. 룰렛은 총 3번 돌릴 수 있고, 첫번째 시도에서 나온 값은 곱하기 1을 하고, 두번째 시도에서 나온 값은 곱하기 2를 하고 세번째 시도에서 나온 값은 곱하기 3을 하기로 하였습니다. 라이캣이 가져갈 쿠키의 수를 리턴하는 함수를 완성해주세요.\n",
    "\n",
    "### 제한사항\n",
    "* 룰렛에는 '쿠키 1개'와 같은 문자열이 주어집니다.\n",
    "* 각각의 값은 1차원 리스트로 주어집니다.\n",
    "* 중복해서 같은 값을 뽑을 수 있습니다."
   ]
  },
  {
   "cell_type": "code",
   "execution_count": null,
   "metadata": {},
   "outputs": [],
   "source": [
    "# Solution 1\n",
    "## 문자열 대체후 int변환\n",
    "\n",
    "def solution(data) : \n",
    "    # 초기값 세팅\n",
    "    tot_cookies = 0\n",
    "    \n",
    "    for i , item in enumerate(data) :\n",
    "        # 문자열 replace 후 추출\n",
    "        cookies = int(item.replace('쿠키 ', '').replace('개',''))\n",
    "        \n",
    "        # 시도한 횟수에 따른 가중치 제공\n",
    "        tot_cookies += cookies * (i+1)\n",
    "    return tot_cookies\n",
    "    "
   ]
  },
  {
   "cell_type": "code",
   "execution_count": null,
   "metadata": {},
   "outputs": [],
   "source": [
    "# Solution 2\n",
    "## 정규표현식 이용\n",
    "\n",
    "def solution(data) : \n",
    "    \n",
    "    import re \n",
    "    \n",
    "    # 초기값 세팅\n",
    "    tot_cookies = 0\n",
    "    \n",
    "    for i , item in enumerate(data) :\n",
    "        # 정규표현식 이용하여 숫자만 추출\n",
    "        cookies = int(re.findall(r'[0-9]+',item)[0])\n",
    "            \n",
    "        # 시도한 횟수에 따른 가중치 제공\n",
    "        tot_cookies += cookies * (i+1)\n",
    "    return tot_cookies\n",
    "    "
   ]
  },
  {
   "cell_type": "code",
   "execution_count": null,
   "metadata": {},
   "outputs": [],
   "source": [
    "# Solution 3\n",
    "## 정규표현식 이용\n",
    "\n",
    "def solution(data) : \n",
    "    \n",
    "    import re \n",
    "    \n",
    "    # 초기값 세팅\n",
    "    tot_cookies = 0\n",
    "    \n",
    "    for i , item in enumerate(data) :\n",
    "        # 정규표현식 이용하여 숫자만 추출\n",
    "        cookies = int(re.findall(r'\\d+',item)[0])\n",
    "            \n",
    "        # 시도한 횟수에 따른 가중치 제공\n",
    "        tot_cookies += cookies * (i+1)\n",
    "    return tot_cookies\n",
    "    "
   ]
  }
 ],
 "metadata": {
  "language_info": {
   "name": "python"
  }
 },
 "nbformat": 4,
 "nbformat_minor": 2
}
