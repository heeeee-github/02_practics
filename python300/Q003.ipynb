{
 "cells": [
  {
   "cell_type": "markdown",
   "metadata": {},
   "source": [
    "# Q003. print 기초\n",
    " * 링크(https://wikidocs.net/7014)\n",
    "\n",
    "\n",
    "## 문제\n",
    " * 화면에  문장을 출력하세요. (중간에 \"가 있음에 주의하세요.)\n",
    "   신씨가 소리질렀다. \"도둑이야\".\n"
   ]
  },
  {
   "cell_type": "code",
   "execution_count": null,
   "metadata": {},
   "outputs": [],
   "source": [
    "#sol\n",
    "print('신씨가 소리질렀다. \"도둑이야\"')"
   ]
  },
  {
   "cell_type": "code",
   "execution_count": null,
   "metadata": {},
   "outputs": [],
   "source": []
  }
 ],
 "metadata": {
  "language_info": {
   "name": "python"
  }
 },
 "nbformat": 4,
 "nbformat_minor": 2
}
